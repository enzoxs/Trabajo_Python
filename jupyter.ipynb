{
 "cells": [
  {
   "cell_type": "code",
   "execution_count": 29,
   "metadata": {},
   "outputs": [
    {
     "name": "stdout",
     "output_type": "stream",
     "text": [
      "**********Bienvenido al sistema Empresa**********\n",
      "**********************MENU***********************\n",
      "1. Ingreso de nuevo trabajador\n",
      "2. Ingreso de nuevo turno\n",
      "3. Numero de trabajadores por Genero\n",
      "4. Filtro de trabajadores por Genero\n",
      "5. El horario de la trabajadora Carla Montenegro\n",
      "*************************************************\n",
      "**Menu de ingreso de nuevo trabajador***\n",
      "Estos son los Departamentos disponibles, recuerde que debe ingresar el codigo del departamento/n\n",
      "   ID_DEPARTAMENTO    NOMBRE\n",
      "0                1  FINANZAS\n",
      "*** Ingrese los datos del nuevo trabajador ***\n"
     ]
    }
   ],
   "source": [
    "import sqlite3\n",
    "import pandas as pd\n",
    "import os\n",
    "\n",
    "ruta = os.getcwd()\n",
    "\n",
    "path=(f\"{ruta}\\db_empresa.db\")\n",
    "sqliteConnection = sqlite3.connect(path)\n",
    "cursor = sqliteConnection.cursor()\n",
    "#query = \"SELECT  *FROM DEPARTAMENTO limit 1\"\n",
    "#pd.read_sql_query(query, sqliteConnection).head(9)\n",
    "\n",
    "print(\"**********Bienvenido al sistema Empresa**********\")\n",
    "print(\"**********************MENU***********************\")\n",
    "print(\"1. Ingreso de nuevo trabajador\")\n",
    "print(\"2. Ingreso de nuevo turno\")\n",
    "print(\"3. Numero de trabajadores por Genero\")\n",
    "print(\"4. Filtro de trabajadores por Genero\")\n",
    "print(\"5. El horario de la trabajadora Carla Montenegro\")\n",
    "print(\"*************************************************\")\n",
    "opcion = int(input(\"Ingrese la opcion que desea realizar: \"))\n",
    "\n",
    "if(opcion==1):\n",
    "    print (\"**Menu de ingreso de nuevo trabajador***\")\n",
    "    print (\"Estos son los Departamentos disponibles, recuerde que debe ingresar el codigo del departamento\")\n",
    "    \n",
    "    query = \"SELECT  *FROM DEPARTAMENTO limit 1\"\n",
    "    \n",
    "    print(pd.read_sql_query(query, sqliteConnection))    \n",
    "    \n",
    "    print(\"*** Ingrese los datos del nuevo trabajador ***\")\n",
    "    \n",
    "    \n",
    "    \n",
    "    #nombre = input(\"Ingrese el nombre del departamento: \")\n",
    "    #apellido = input(\"Ingrese el apellido del departamento: \")\n",
    "    #fecha = input(\"Ingrese la fecha de nacimiento del departamento: \")\n",
    "    #genero = input(\"Ingrese el genero del departamento: \")\n",
    "    #departamento = input(\"Ingrese el departamento del departamento:\")\n",
    "    \n",
    "elif(opcion==2):\n",
    "    print (\"Selecciono la opcion 2\")\n",
    "elif(opcion==3):\n",
    "    print (\"Selecciono la opcion 3\")\n",
    "elif(opcion==4):\n",
    "    print (\"Selecciono la opcion 4\")\n",
    "elif(opcion==5):\n",
    "    print (\"Selecciono la opcion 5\")\n",
    "else:    \n",
    "    print(\"Opcion incorrecta\")\n",
    "\n",
    "#nombre = input(\"Ingrese el nombre del departamento: \")\n",
    "#apellido = input(\"Ingrese el apellido del departamento: \")\n",
    "#fecha = input(\"Ingrese la fecha de nacimiento del departamento: \")\n",
    "#genero = input(\"Ingrese el genero del departamento: \")\n",
    "#departamento = input(\"Ingrese el departamento del departamento:\")\n",
    "\n",
    "#cursor.close()\n",
    "#sqliteConnection.close()\n",
    "\n",
    "\n",
    "\n"
   ]
  }
 ],
 "metadata": {
  "kernelspec": {
   "display_name": "Python 3",
   "language": "python",
   "name": "python3"
  },
  "language_info": {
   "codemirror_mode": {
    "name": "ipython",
    "version": 3
   },
   "file_extension": ".py",
   "mimetype": "text/x-python",
   "name": "python",
   "nbconvert_exporter": "python",
   "pygments_lexer": "ipython3",
   "version": "3.11.4"
  },
  "orig_nbformat": 4
 },
 "nbformat": 4,
 "nbformat_minor": 2
}
