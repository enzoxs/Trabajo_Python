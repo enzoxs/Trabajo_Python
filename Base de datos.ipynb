{
 "cells": [
  {
   "cell_type": "code",
   "execution_count": 2,
   "metadata": {},
   "outputs": [],
   "source": [
    "import sqlite3\n",
    "import pandas as pd\n",
    "import os \n",
    "\n",
    "#Conexion y creacion de Base de Datos\n",
    "ruta = os.getcwd()\n",
    "path=(f\"{ruta}\\db_empresa.db\")\n",
    "sqliteConnection = sqlite3.connect(path)\n",
    "cursor = sqliteConnection.cursor()\n",
    "\n",
    "#Creacion de tablas\n",
    "cursor.execute(''' CREATE TABLE IF NOT EXISTS DEPARTAMENTO ( ID_DEPARTAMENTO INTEGER PRIMARY KEY AUTOINCREMENT NOT NULL, NOMBRE TEXT NOT NULL ) ''') \n",
    "cursor.execute(''' CREATE TABLE IF NOT EXISTS HORARIO ( ID_HORARIO INTEGER PRIMARY KEY AUTOINCREMENT NOT NULL, HORA INTEGER NOT NULL ) ''') \n",
    "cursor.execute(''' CREATE TABLE IF NOT EXISTS TRABAJADOR ( RUT_TRABAJADOR TEXT PRIMARY KEY NOT NULL, NOMBRE_TRABAJADOR TEXT NOT NULL, APELLIDO_TRABAJADOR TEXT NOT NULL, FECHA_NACIMIENTO TEXT NOT NULL, GENERO TEXT NOT NULL, ID_DEPARTAMENTO INTEGER NOT NULL, FOREIGN KEY (ID_DEPARTAMENTO) REFERENCES DEPARTAMENTO(ID_DEPARTAMENTO) ) ''') \n",
    "cursor.execute(''' CREATE TABLE IF NOT EXISTS TRABAJADOR_HORARIO ( ID_TURNO INTEGER PRIMARY KEY AUTOINCREMENT NOT NULL, RUT_TRABAJADOR TEXT NOT NULL, ID_HORARIO INTEGER NOT NULL, FOREIGN KEY (RUT_TRABAJADOR) REFERENCES TRABAJADOR(RUT_TRABAJADOR), FOREIGN KEY (ID_HORARIO) REFERENCES HORARIO(ID_HORARIO) ) ''')\n",
    "\n",
    "#Insert de datos \n",
    "\n",
    "cursor.execute('''INSERT INTO DEPARTAMENTO VALUES (null,'Informatica');''')\n",
    "cursor.execute('''INSERT INTO DEPARTAMENTO VALUES (null,'Finanzas');''')\n",
    "cursor.execute('''INSERT INTO DEPARTAMENTO VALUES (null,'Ventas');''')\n",
    "cursor.execute('''INSERT INTO DEPARTAMENTO VALUES (null,'Compras');''')\n",
    "cursor.execute('''INSERT INTO DEPARTAMENTO VALUES (null,'Marketing');''')\n",
    "\n",
    "cursor.execute('''INSERT INTO HORARIO VALUES (null,'09:00');''')\n",
    "cursor.execute('''INSERT INTO HORARIO VALUES (null,'10:00');''')\n",
    "cursor.execute('''INSERT INTO HORARIO VALUES (null,'11:00');''')\n",
    "cursor.execute('''INSERT INTO HORARIO VALUES (null,'12:00');''')\n",
    "cursor.execute('''INSERT INTO HORARIO VALUES (null,'13:00');''')\n",
    "cursor.execute('''INSERT INTO HORARIO VALUES (null,'14:00');''')\n",
    "cursor.execute('''INSERT INTO HORARIO VALUES (null,'15:00');''')\n",
    "cursor.execute('''INSERT INTO HORARIO VALUES (null,'16:00');''')\n",
    "cursor.execute('''INSERT INTO HORARIO VALUES (null,'17:00');''')\n",
    "cursor.execute('''INSERT INTO HORARIO VALUES (null,'18:00');''')\n",
    "cursor.execute('''INSERT INTO HORARIO VALUES (null,'19:00');''')\n",
    "\n",
    "\n",
    "cursor.execute('''INSERT INTO TRABAJADOR VALUES ('11111111-1','Juan','Perez','1985-02-01','Masculino',1);''')\n",
    "cursor.execute('''INSERT INTO TRABAJADOR VALUES ('22222222-2','Pedro','Perez','1995-01-23','Masculino',2);''')\n",
    "cursor.execute('''INSERT  INTO TRABAJADOR VALUES ('33333333-3','Carla','Montenegro','1990-10-15','Femenino',3);''')\n",
    "\n",
    "\n",
    "cursor.execute('''INSERT INTO TRABAJADOR_HORARIO VALUES (null,'11111111-1',1);''')\n",
    "cursor.execute('''INSERT INTO TRABAJADOR_HORARIO VALUES (null,'11111111-1',2);''')\n",
    "cursor.execute('''INSERT INTO TRABAJADOR_HORARIO VALUES (null,'33333333-3',3);''')\n",
    "cursor.execute('''INSERT INTO TRABAJADOR_HORARIO VALUES (null,'33333333-3',4);''')\n",
    "cursor.execute('''INSERT INTO TRABAJADOR_HORARIO VALUES (null,'33333333-3',5);''')\n",
    "\n",
    "sqliteConnection.commit()\n",
    "cursor.close()\n",
    "sqliteConnection.close()"
   ]
  }
 ],
 "metadata": {
  "kernelspec": {
   "display_name": "Python 3",
   "language": "python",
   "name": "python3"
  },
  "language_info": {
   "codemirror_mode": {
    "name": "ipython",
    "version": 3
   },
   "file_extension": ".py",
   "mimetype": "text/x-python",
   "name": "python",
   "nbconvert_exporter": "python",
   "pygments_lexer": "ipython3",
   "version": "3.11.4"
  },
  "orig_nbformat": 4
 },
 "nbformat": 4,
 "nbformat_minor": 2
}
